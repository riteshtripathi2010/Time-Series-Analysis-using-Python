{
 "cells": [
  {
   "cell_type": "markdown",
   "metadata": {},
   "source": [
    "# Time Series Forescasting"
   ]
  },
  {
   "cell_type": "code",
   "execution_count": 4,
   "metadata": {},
   "outputs": [
    {
     "name": "stderr",
     "output_type": "stream",
     "text": [
      "<ipython-input-4-5b489f4d910b>:2: FutureWarning: The pandas.datetime class is deprecated and will be removed from pandas in a future version. Import from datetime module instead.\n",
      "  from pandas import datetime\n"
     ]
    }
   ],
   "source": [
    "import pandas as pd\n",
    "from pandas import datetime\n",
    "import matplotlib.pyplot as plt\n",
    "\n",
    "#learnt:\n",
    "#1. convert month string to date variable\n",
    "#2. stationarity and seasoanlity\n",
    "#3. to get stationaroty: use differencing with periods 1\n",
    "#4. to check for stationarity using ACF PACF graphs, decaying\n",
    "#5. after differencing, check again using plot for stationarity\n",
    "#6 Build AR Model, split data\n",
    "    #in ar model, the pdq values are auto selcted\n",
    "#7 you can build MA model too\n",
    "#8 Build arima model\n",
    "    #to check for best Pdq values, use for loop to see the best combination and use forecast function to forecast values\n",
    "    "
   ]
  },
  {
   "cell_type": "code",
   "execution_count": 15,
   "metadata": {},
   "outputs": [],
   "source": [
    "def parser(x):\n",
    "    return datetime.strptime(x,'%Y-%m')\n",
    "\n",
    "sales = pd.read_csv(\"/Users/riteshtripathi/Desktop/cars.csv\",index_col=0, parse_dates=[0] ,date_parser=parser)"
   ]
  },
  {
   "cell_type": "code",
   "execution_count": 14,
   "metadata": {},
   "outputs": [
    {
     "ename": "AttributeError",
     "evalue": "'DataFrame' object has no attribute 'Month'",
     "output_type": "error",
     "traceback": [
      "\u001b[0;31m---------------------------------------------------------------------------\u001b[0m",
      "\u001b[0;31mAttributeError\u001b[0m                            Traceback (most recent call last)",
      "\u001b[0;32m<ipython-input-14-8565cf41572a>\u001b[0m in \u001b[0;36m<module>\u001b[0;34m\u001b[0m\n\u001b[0;32m----> 1\u001b[0;31m \u001b[0msales\u001b[0m\u001b[0;34m.\u001b[0m\u001b[0mMonth\u001b[0m\u001b[0;34m[\u001b[0m\u001b[0;36m1\u001b[0m\u001b[0;34m]\u001b[0m\u001b[0;34m\u001b[0m\u001b[0;34m\u001b[0m\u001b[0m\n\u001b[0m\u001b[1;32m      2\u001b[0m \u001b[0;31m#this confirms my date is now date variable\u001b[0m\u001b[0;34m\u001b[0m\u001b[0;34m\u001b[0m\u001b[0;34m\u001b[0m\u001b[0m\n",
      "\u001b[0;32m~/opt/anaconda3/lib/python3.8/site-packages/pandas/core/generic.py\u001b[0m in \u001b[0;36m__getattr__\u001b[0;34m(self, name)\u001b[0m\n\u001b[1;32m   5137\u001b[0m             \u001b[0;32mif\u001b[0m \u001b[0mself\u001b[0m\u001b[0;34m.\u001b[0m\u001b[0m_info_axis\u001b[0m\u001b[0;34m.\u001b[0m\u001b[0m_can_hold_identifiers_and_holds_name\u001b[0m\u001b[0;34m(\u001b[0m\u001b[0mname\u001b[0m\u001b[0;34m)\u001b[0m\u001b[0;34m:\u001b[0m\u001b[0;34m\u001b[0m\u001b[0;34m\u001b[0m\u001b[0m\n\u001b[1;32m   5138\u001b[0m                 \u001b[0;32mreturn\u001b[0m \u001b[0mself\u001b[0m\u001b[0;34m[\u001b[0m\u001b[0mname\u001b[0m\u001b[0;34m]\u001b[0m\u001b[0;34m\u001b[0m\u001b[0;34m\u001b[0m\u001b[0m\n\u001b[0;32m-> 5139\u001b[0;31m             \u001b[0;32mreturn\u001b[0m \u001b[0mobject\u001b[0m\u001b[0;34m.\u001b[0m\u001b[0m__getattribute__\u001b[0m\u001b[0;34m(\u001b[0m\u001b[0mself\u001b[0m\u001b[0;34m,\u001b[0m \u001b[0mname\u001b[0m\u001b[0;34m)\u001b[0m\u001b[0;34m\u001b[0m\u001b[0;34m\u001b[0m\u001b[0m\n\u001b[0m\u001b[1;32m   5140\u001b[0m \u001b[0;34m\u001b[0m\u001b[0m\n\u001b[1;32m   5141\u001b[0m     \u001b[0;32mdef\u001b[0m \u001b[0m__setattr__\u001b[0m\u001b[0;34m(\u001b[0m\u001b[0mself\u001b[0m\u001b[0;34m,\u001b[0m \u001b[0mname\u001b[0m\u001b[0;34m:\u001b[0m \u001b[0mstr\u001b[0m\u001b[0;34m,\u001b[0m \u001b[0mvalue\u001b[0m\u001b[0;34m)\u001b[0m \u001b[0;34m->\u001b[0m \u001b[0;32mNone\u001b[0m\u001b[0;34m:\u001b[0m\u001b[0;34m\u001b[0m\u001b[0;34m\u001b[0m\u001b[0m\n",
      "\u001b[0;31mAttributeError\u001b[0m: 'DataFrame' object has no attribute 'Month'"
     ]
    }
   ],
   "source": [
    "sales.Month[1]\n",
    "#this confirms my date is now date variable\n",
    "#this will throw error, as i have put month as my first index, remove the above code as index_col = 0 and run sales.Month[1]"
   ]
  },
  {
   "cell_type": "code",
   "execution_count": 16,
   "metadata": {},
   "outputs": [
    {
     "data": {
      "text/html": [
       "<div>\n",
       "<style scoped>\n",
       "    .dataframe tbody tr th:only-of-type {\n",
       "        vertical-align: middle;\n",
       "    }\n",
       "\n",
       "    .dataframe tbody tr th {\n",
       "        vertical-align: top;\n",
       "    }\n",
       "\n",
       "    .dataframe thead th {\n",
       "        text-align: right;\n",
       "    }\n",
       "</style>\n",
       "<table border=\"1\" class=\"dataframe\">\n",
       "  <thead>\n",
       "    <tr style=\"text-align: right;\">\n",
       "      <th></th>\n",
       "      <th>Sales</th>\n",
       "    </tr>\n",
       "    <tr>\n",
       "      <th>Month</th>\n",
       "      <th></th>\n",
       "    </tr>\n",
       "  </thead>\n",
       "  <tbody>\n",
       "    <tr>\n",
       "      <th>2016-01-01</th>\n",
       "      <td>266</td>\n",
       "    </tr>\n",
       "    <tr>\n",
       "      <th>2016-02-01</th>\n",
       "      <td>146</td>\n",
       "    </tr>\n",
       "    <tr>\n",
       "      <th>2016-03-01</th>\n",
       "      <td>183</td>\n",
       "    </tr>\n",
       "    <tr>\n",
       "      <th>2016-04-01</th>\n",
       "      <td>119</td>\n",
       "    </tr>\n",
       "    <tr>\n",
       "      <th>2016-05-01</th>\n",
       "      <td>180</td>\n",
       "    </tr>\n",
       "  </tbody>\n",
       "</table>\n",
       "</div>"
      ],
      "text/plain": [
       "            Sales\n",
       "Month            \n",
       "2016-01-01    266\n",
       "2016-02-01    146\n",
       "2016-03-01    183\n",
       "2016-04-01    119\n",
       "2016-05-01    180"
      ]
     },
     "execution_count": 16,
     "metadata": {},
     "output_type": "execute_result"
    }
   ],
   "source": [
    "sales.head()"
   ]
  },
  {
   "cell_type": "code",
   "execution_count": 12,
   "metadata": {},
   "outputs": [
    {
     "data": {
      "text/plain": [
       "Timestamp('2016-02-01 00:00:00')"
      ]
     },
     "execution_count": 12,
     "metadata": {},
     "output_type": "execute_result"
    }
   ],
   "source": [
    "sales.Month[1]"
   ]
  },
  {
   "cell_type": "code",
   "execution_count": 17,
   "metadata": {},
   "outputs": [
    {
     "data": {
      "text/plain": [
       "<matplotlib.axes._subplots.AxesSubplot at 0x11178cbe0>"
      ]
     },
     "execution_count": 17,
     "metadata": {},
     "output_type": "execute_result"
    },
    {
     "data": {
      "image/png": "[encoded data removed]",
      "text/plain": [
       "<matplotlib.figure.Figure at 0x1113f90f0>"
      ]
     },
     "metadata": {},
     "output_type": "display_data"
    }
   ],
   "source": [
    "sales.plot()\n",
    "#below graph isnt stationarity\n",
    "#the mean somewhere below is 100 and the mean var above are 450\n",
    "#this is because my data has trend\n",
    "#there is increase of sales over period of time\n",
    "#therefore abvoe, we have to convert to stationary\n",
    "#otherwise we cant apply any of time series analysis"
   ]
  },
  {
   "cell_type": "markdown",
   "metadata": {},
   "source": [
    "Stationary means mean, variance and covariance is constant over periods."
   ]
  },
  {
   "cell_type": "code",
   "execution_count": 18,
   "metadata": {},
   "outputs": [
    {
     "data": {
      "text/html": [
       "<div>\n",
       "<style scoped>\n",
       "    .dataframe tbody tr th:only-of-type {\n",
       "        vertical-align: middle;\n",
       "    }\n",
       "\n",
       "    .dataframe tbody tr th {\n",
       "        vertical-align: top;\n",
       "    }\n",
       "\n",
       "    .dataframe thead th {\n",
       "        text-align: right;\n",
       "    }\n",
       "</style>\n",
       "<table border=\"1\" class=\"dataframe\">\n",
       "  <thead>\n",
       "    <tr style=\"text-align: right;\">\n",
       "      <th></th>\n",
       "      <th>Sales</th>\n",
       "    </tr>\n",
       "    <tr>\n",
       "      <th>Month</th>\n",
       "      <th></th>\n",
       "    </tr>\n",
       "  </thead>\n",
       "  <tbody>\n",
       "    <tr>\n",
       "      <th>2016-01-01</th>\n",
       "      <td>NaN</td>\n",
       "    </tr>\n",
       "    <tr>\n",
       "      <th>2016-02-01</th>\n",
       "      <td>-120.0</td>\n",
       "    </tr>\n",
       "    <tr>\n",
       "      <th>2016-03-01</th>\n",
       "      <td>37.0</td>\n",
       "    </tr>\n",
       "    <tr>\n",
       "      <th>2016-04-01</th>\n",
       "      <td>-64.0</td>\n",
       "    </tr>\n",
       "    <tr>\n",
       "      <th>2016-05-01</th>\n",
       "      <td>61.0</td>\n",
       "    </tr>\n",
       "    <tr>\n",
       "      <th>2016-06-01</th>\n",
       "      <td>-11.0</td>\n",
       "    </tr>\n",
       "    <tr>\n",
       "      <th>2016-07-01</th>\n",
       "      <td>63.0</td>\n",
       "    </tr>\n",
       "    <tr>\n",
       "      <th>2016-08-01</th>\n",
       "      <td>-7.0</td>\n",
       "    </tr>\n",
       "    <tr>\n",
       "      <th>2016-09-01</th>\n",
       "      <td>-32.0</td>\n",
       "    </tr>\n",
       "    <tr>\n",
       "      <th>2016-10-01</th>\n",
       "      <td>-70.0</td>\n",
       "    </tr>\n",
       "    <tr>\n",
       "      <th>2016-11-01</th>\n",
       "      <td>214.0</td>\n",
       "    </tr>\n",
       "    <tr>\n",
       "      <th>2016-12-01</th>\n",
       "      <td>-151.0</td>\n",
       "    </tr>\n",
       "    <tr>\n",
       "      <th>2017-01-01</th>\n",
       "      <td>8.0</td>\n",
       "    </tr>\n",
       "    <tr>\n",
       "      <th>2017-02-01</th>\n",
       "      <td>-44.0</td>\n",
       "    </tr>\n",
       "    <tr>\n",
       "      <th>2017-03-01</th>\n",
       "      <td>60.0</td>\n",
       "    </tr>\n",
       "    <tr>\n",
       "      <th>2017-04-01</th>\n",
       "      <td>63.0</td>\n",
       "    </tr>\n",
       "    <tr>\n",
       "      <th>2017-05-01</th>\n",
       "      <td>-82.0</td>\n",
       "    </tr>\n",
       "    <tr>\n",
       "      <th>2017-06-01</th>\n",
       "      <td>96.0</td>\n",
       "    </tr>\n",
       "    <tr>\n",
       "      <th>2017-07-01</th>\n",
       "      <td>-61.0</td>\n",
       "    </tr>\n",
       "    <tr>\n",
       "      <th>2017-08-01</th>\n",
       "      <td>78.0</td>\n",
       "    </tr>\n",
       "    <tr>\n",
       "      <th>2017-09-01</th>\n",
       "      <td>-14.0</td>\n",
       "    </tr>\n",
       "    <tr>\n",
       "      <th>2017-10-01</th>\n",
       "      <td>132.0</td>\n",
       "    </tr>\n",
       "    <tr>\n",
       "      <th>2017-11-01</th>\n",
       "      <td>-157.0</td>\n",
       "    </tr>\n",
       "    <tr>\n",
       "      <th>2017-12-01</th>\n",
       "      <td>77.0</td>\n",
       "    </tr>\n",
       "    <tr>\n",
       "      <th>2018-01-01</th>\n",
       "      <td>-2.0</td>\n",
       "    </tr>\n",
       "    <tr>\n",
       "      <th>2018-02-01</th>\n",
       "      <td>100.0</td>\n",
       "    </tr>\n",
       "    <tr>\n",
       "      <th>2018-03-01</th>\n",
       "      <td>-124.0</td>\n",
       "    </tr>\n",
       "    <tr>\n",
       "      <th>2018-04-01</th>\n",
       "      <td>123.0</td>\n",
       "    </tr>\n",
       "    <tr>\n",
       "      <th>2018-05-01</th>\n",
       "      <td>-38.0</td>\n",
       "    </tr>\n",
       "    <tr>\n",
       "      <th>2018-06-01</th>\n",
       "      <td>-11.0</td>\n",
       "    </tr>\n",
       "    <tr>\n",
       "      <th>2018-07-01</th>\n",
       "      <td>100.0</td>\n",
       "    </tr>\n",
       "    <tr>\n",
       "      <th>2018-08-01</th>\n",
       "      <td>-82.0</td>\n",
       "    </tr>\n",
       "    <tr>\n",
       "      <th>2018-09-01</th>\n",
       "      <td>82.0</td>\n",
       "    </tr>\n",
       "    <tr>\n",
       "      <th>2018-10-01</th>\n",
       "      <td>-70.0</td>\n",
       "    </tr>\n",
       "    <tr>\n",
       "      <th>2018-11-01</th>\n",
       "      <td>100.0</td>\n",
       "    </tr>\n",
       "    <tr>\n",
       "      <th>2018-12-01</th>\n",
       "      <td>-40.0</td>\n",
       "    </tr>\n",
       "  </tbody>\n",
       "</table>\n",
       "</div>"
      ],
      "text/plain": [
       "            Sales\n",
       "Month            \n",
       "2016-01-01    NaN\n",
       "2016-02-01 -120.0\n",
       "2016-03-01   37.0\n",
       "2016-04-01  -64.0\n",
       "2016-05-01   61.0\n",
       "2016-06-01  -11.0\n",
       "2016-07-01   63.0\n",
       "2016-08-01   -7.0\n",
       "2016-09-01  -32.0\n",
       "2016-10-01  -70.0\n",
       "2016-11-01  214.0\n",
       "2016-12-01 -151.0\n",
       "2017-01-01    8.0\n",
       "2017-02-01  -44.0\n",
       "2017-03-01   60.0\n",
       "2017-04-01   63.0\n",
       "2017-05-01  -82.0\n",
       "2017-06-01   96.0\n",
       "2017-07-01  -61.0\n",
       "2017-08-01   78.0\n",
       "2017-09-01  -14.0\n",
       "2017-10-01  132.0\n",
       "2017-11-01 -157.0\n",
       "2017-12-01   77.0\n",
       "2018-01-01   -2.0\n",
       "2018-02-01  100.0\n",
       "2018-03-01 -124.0\n",
       "2018-04-01  123.0\n",
       "2018-05-01  -38.0\n",
       "2018-06-01  -11.0\n",
       "2018-07-01  100.0\n",
       "2018-08-01  -82.0\n",
       "2018-09-01   82.0\n",
       "2018-10-01  -70.0\n",
       "2018-11-01  100.0\n",
       "2018-12-01  -40.0"
      ]
     },
     "execution_count": 18,
     "metadata": {},
     "output_type": "execute_result"
    }
   ],
   "source": [
    "sales.diff(periods = 1)"
   ]
  },
  {
   "cell_type": "code",
   "execution_count": 20,
   "metadata": {},
   "outputs": [],
   "source": [
    "sales_diff = sales.diff(periods = 1)\n",
    "\n",
    "#this is also called integrated of order 1, we are taking 1 time lag or period difference\n",
    "#denoted by d for difference \n",
    "#one of the parameter of ARIMA model"
   ]
  },
  {
   "cell_type": "code",
   "execution_count": 21,
   "metadata": {},
   "outputs": [
    {
     "data": {
      "text/html": [
       "<div>\n",
       "<style scoped>\n",
       "    .dataframe tbody tr th:only-of-type {\n",
       "        vertical-align: middle;\n",
       "    }\n",
       "\n",
       "    .dataframe tbody tr th {\n",
       "        vertical-align: top;\n",
       "    }\n",
       "\n",
       "    .dataframe thead th {\n",
       "        text-align: right;\n",
       "    }\n",
       "</style>\n",
       "<table border=\"1\" class=\"dataframe\">\n",
       "  <thead>\n",
       "    <tr style=\"text-align: right;\">\n",
       "      <th></th>\n",
       "      <th>Sales</th>\n",
       "    </tr>\n",
       "    <tr>\n",
       "      <th>Month</th>\n",
       "      <th></th>\n",
       "    </tr>\n",
       "  </thead>\n",
       "  <tbody>\n",
       "    <tr>\n",
       "      <th>2016-01-01</th>\n",
       "      <td>NaN</td>\n",
       "    </tr>\n",
       "    <tr>\n",
       "      <th>2016-02-01</th>\n",
       "      <td>-120.0</td>\n",
       "    </tr>\n",
       "    <tr>\n",
       "      <th>2016-03-01</th>\n",
       "      <td>37.0</td>\n",
       "    </tr>\n",
       "    <tr>\n",
       "      <th>2016-04-01</th>\n",
       "      <td>-64.0</td>\n",
       "    </tr>\n",
       "    <tr>\n",
       "      <th>2016-05-01</th>\n",
       "      <td>61.0</td>\n",
       "    </tr>\n",
       "  </tbody>\n",
       "</table>\n",
       "</div>"
      ],
      "text/plain": [
       "            Sales\n",
       "Month            \n",
       "2016-01-01    NaN\n",
       "2016-02-01 -120.0\n",
       "2016-03-01   37.0\n",
       "2016-04-01  -64.0\n",
       "2016-05-01   61.0"
      ]
     },
     "execution_count": 21,
     "metadata": {},
     "output_type": "execute_result"
    }
   ],
   "source": [
    "sales_diff.head()"
   ]
  },
  {
   "cell_type": "code",
   "execution_count": 23,
   "metadata": {},
   "outputs": [
    {
     "data": {
      "text/html": [
       "<div>\n",
       "<style scoped>\n",
       "    .dataframe tbody tr th:only-of-type {\n",
       "        vertical-align: middle;\n",
       "    }\n",
       "\n",
       "    .dataframe tbody tr th {\n",
       "        vertical-align: top;\n",
       "    }\n",
       "\n",
       "    .dataframe thead th {\n",
       "        text-align: right;\n",
       "    }\n",
       "</style>\n",
       "<table border=\"1\" class=\"dataframe\">\n",
       "  <thead>\n",
       "    <tr style=\"text-align: right;\">\n",
       "      <th></th>\n",
       "      <th>Sales</th>\n",
       "    </tr>\n",
       "    <tr>\n",
       "      <th>Month</th>\n",
       "      <th></th>\n",
       "    </tr>\n",
       "  </thead>\n",
       "  <tbody>\n",
       "    <tr>\n",
       "      <th>2016-03-01</th>\n",
       "      <td>37.0</td>\n",
       "    </tr>\n",
       "    <tr>\n",
       "      <th>2016-04-01</th>\n",
       "      <td>-64.0</td>\n",
       "    </tr>\n",
       "    <tr>\n",
       "      <th>2016-05-01</th>\n",
       "      <td>61.0</td>\n",
       "    </tr>\n",
       "    <tr>\n",
       "      <th>2016-06-01</th>\n",
       "      <td>-11.0</td>\n",
       "    </tr>\n",
       "    <tr>\n",
       "      <th>2016-07-01</th>\n",
       "      <td>63.0</td>\n",
       "    </tr>\n",
       "  </tbody>\n",
       "</table>\n",
       "</div>"
      ],
      "text/plain": [
       "            Sales\n",
       "Month            \n",
       "2016-03-01   37.0\n",
       "2016-04-01  -64.0\n",
       "2016-05-01   61.0\n",
       "2016-06-01  -11.0\n",
       "2016-07-01   63.0"
      ]
     },
     "execution_count": 23,
     "metadata": {},
     "output_type": "execute_result"
    }
   ],
   "source": [
    "#i dont like the nan word\n",
    "sales_diff = sales_diff[1:] \n",
    "#take first value to end\n",
    "sales_diff.head()"
   ]
  },
  {
   "cell_type": "code",
   "execution_count": 25,
   "metadata": {},
   "outputs": [
    {
     "data": {
      "image/png": "[encoded data removed]",
      "text/plain": [
       "<Figure size 432x288 with 1 Axes>"
      ]
     },
     "execution_count": 25,
     "metadata": {},
     "output_type": "execute_result"
    },
    {
     "data": {
      "image/png": "[encoded data removed]",
      "text/plain": [
       "<Figure size 432x288 with 1 Axes>"
      ]
     },
     "metadata": {
      "needs_background": "light"
     },
     "output_type": "display_data"
    }
   ],
   "source": [
    "#Converting series to stationary\n",
    "    #we will take difference of series\n",
    "    #in differencing the first row will become nan, check above\n",
    "    \n",
    "#we can also use ACF to see if its stationarity\n",
    "\n",
    "#this is showing correlation between two series \n",
    "#since this has only one series, there is correlation between same series with time lag\n",
    "#we see the acf is slowly decaying, this showing that series is not stationariyt\n",
    "#ideally its should be, from first correlation which is 1, it should immediately decrease in big time\n",
    "    #the next correlation should either be 0 or negative\n",
    "    #that shows your data is stationary\n",
    "    #and we need stationary data to do time series forecasting\n",
    "    \n",
    "from statsmodels.graphics.tsaplots import plot_acf\n",
    "plot_acf(sales)"
   ]
  },
  {
   "cell_type": "code",
   "execution_count": 26,
   "metadata": {},
   "outputs": [
    {
     "data": {
      "image/png": "[encoded data removed]",
      "text/plain": [
       "<Figure size 432x288 with 1 Axes>"
      ]
     },
     "execution_count": 26,
     "metadata": {},
     "output_type": "execute_result"
    },
    {
     "data": {
      "image/png": "[encoded data removed]",
      "text/plain": [
       "<Figure size 432x288 with 1 Axes>"
      ]
     },
     "metadata": {
      "needs_background": "light"
     },
     "output_type": "display_data"
    }
   ],
   "source": [
    "plot_acf(sales_diff)\n",
    "#now we see very good stationary\n",
    "\n",
    "#lets look at visually\n"
   ]
  },
  {
   "cell_type": "code",
   "execution_count": 27,
   "metadata": {},
   "outputs": [
    {
     "data": {
      "text/plain": [
       "<AxesSubplot:xlabel='Month'>"
      ]
     },
     "execution_count": 27,
     "metadata": {},
     "output_type": "execute_result"
    },
    {
     "data": {
      "image/png": "[encoded data removed]",
      "text/plain": [
       "<Figure size 432x288 with 1 Axes>"
      ]
     },
     "metadata": {
      "needs_background": "light"
     },
     "output_type": "display_data"
    }
   ],
   "source": [
    "sales_diff.plot()\n",
    "#now we see there is no trend here, its stationary\n",
    "#mean, var looks almost the same\n",
    "\n",
    "#this data is good enough for time series analysisx"
   ]
  },
  {
   "cell_type": "markdown",
   "metadata": {},
   "source": [
    "# Autoreggresive AR Model"
   ]
  },
  {
   "cell_type": "code",
   "execution_count": 29,
   "metadata": {},
   "outputs": [],
   "source": [
    "#Next Step 2\n",
    "#Splitting Data\n",
    "X = sales.values\n",
    "train = X[0:27] # 27 data as train data\n",
    "test = X[26:]  # 9 data as test data\n",
    "predictions = []   #to predict using arima model"
   ]
  },
  {
   "cell_type": "code",
   "execution_count": 30,
   "metadata": {},
   "outputs": [
    {
     "data": {
      "text/plain": [
       "27"
      ]
     },
     "execution_count": 30,
     "metadata": {},
     "output_type": "execute_result"
    }
   ],
   "source": [
    "train.size"
   ]
  },
  {
   "cell_type": "code",
   "execution_count": 31,
   "metadata": {},
   "outputs": [
    {
     "name": "stderr",
     "output_type": "stream",
     "text": [
      "/Users/riteshtripathi/opt/anaconda3/lib/python3.8/site-packages/statsmodels/tsa/ar_model.py:791: FutureWarning: \n",
      "statsmodels.tsa.AR has been deprecated in favor of statsmodels.tsa.AutoReg and\n",
      "statsmodels.tsa.SARIMAX.\n",
      "\n",
      "AutoReg adds the ability to specify exogenous variables, include time trends,\n",
      "and add seasonal dummies. The AutoReg API differs from AR since the model is\n",
      "treated as immutable, and so the entire specification including the lag\n",
      "length must be specified when creating the model. This change is too\n",
      "substantial to incorporate into the existing AR api. The function\n",
      "ar_select_order performs lag length selection for AutoReg models.\n",
      "\n",
      "AutoReg only estimates parameters using conditional MLE (OLS). Use SARIMAX to\n",
      "estimate ARX and related models using full MLE via the Kalman Filter.\n",
      "\n",
      "To silence this warning and continue using AR until it is removed, use:\n",
      "\n",
      "import warnings\n",
      "warnings.filterwarnings('ignore', 'statsmodels.tsa.ar_model.AR', FutureWarning)\n",
      "\n",
      "  warnings.warn(AR_DEPRECATION_WARN, FutureWarning)\n"
     ]
    }
   ],
   "source": [
    "from statsmodels.tsa.ar_model import AR\n",
    "from sklearn.metrics import mean_squared_error\n",
    "\n",
    "model_ar = AR(train)\n",
    "model_ar_fit = model_ar.fit()"
   ]
  },
  {
   "cell_type": "code",
   "execution_count": 32,
   "metadata": {},
   "outputs": [],
   "source": [
    "predictions = model_ar_fit.predict(start=26,end=36)"
   ]
  },
  {
   "cell_type": "code",
   "execution_count": 51,
   "metadata": {},
   "outputs": [
    {
     "data": {
      "text/plain": [
       "array([[439],\n",
       "       [401],\n",
       "       [390],\n",
       "       [490],\n",
       "       [408],\n",
       "       [490],\n",
       "       [420],\n",
       "       [520],\n",
       "       [480]])"
      ]
     },
     "execution_count": 51,
     "metadata": {},
     "output_type": "execute_result"
    }
   ],
   "source": [
    "test"
   ]
  },
  {
   "cell_type": "code",
   "execution_count": 34,
   "metadata": {},
   "outputs": [
    {
     "data": {
      "text/plain": [
       "<AxesSubplot:xlabel='Month'>"
      ]
     },
     "execution_count": 34,
     "metadata": {},
     "output_type": "execute_result"
    },
    {
     "data": {
      "image/png": "[encoded data removed]",
      "text/plain": [
       "<Figure size 432x288 with 1 Axes>"
      ]
     },
     "metadata": {
      "needs_background": "light"
     },
     "output_type": "display_data"
    }
   ],
   "source": [
    "#Actual Graph was\n",
    "sales.plot()"
   ]
  },
  {
   "cell_type": "code",
   "execution_count": 33,
   "metadata": {},
   "outputs": [
    {
     "data": {
      "text/plain": [
       "[<matplotlib.lines.Line2D at 0x7ffabe4a4130>]"
      ]
     },
     "execution_count": 33,
     "metadata": {},
     "output_type": "execute_result"
    },
    {
     "data": {
      "image/png": "[encoded data removed]",
      "text/plain": [
       "<Figure size 432x288 with 1 Axes>"
      ]
     },
     "metadata": {
      "needs_background": "light"
     },
     "output_type": "display_data"
    }
   ],
   "source": [
    "#now the graph is\n",
    "plt.plot(test)\n",
    "plt.plot(predictions,color='red')\n",
    "#we have not done anything in stationarity thats why its not showing the right graph\n",
    "\n",
    "#so this is our Autoregressive AR model\n",
    "#we can also do MA model, "
   ]
  },
  {
   "cell_type": "code",
   "execution_count": 49,
   "metadata": {},
   "outputs": [
    {
     "data": {
      "text/plain": [
       "<matplotlib.axes._subplots.AxesSubplot at 0x1c1e5f34e0>"
      ]
     },
     "execution_count": 49,
     "metadata": {},
     "output_type": "execute_result"
    },
    {
     "data": {
      "image/png": "[encoded data removed]",
      "text/plain": [
       "<matplotlib.figure.Figure at 0x1c1d2a32e8>"
      ]
     },
     "metadata": {},
     "output_type": "display_data"
    }
   ],
   "source": [
    "sales.plot()"
   ]
  },
  {
   "cell_type": "markdown",
   "metadata": {},
   "source": [
    "# ARIMA model"
   ]
  },
  {
   "cell_type": "code",
   "execution_count": 35,
   "metadata": {},
   "outputs": [],
   "source": [
    "from statsmodels.tsa.arima_model import ARIMA"
   ]
  },
  {
   "cell_type": "code",
   "execution_count": 38,
   "metadata": {},
   "outputs": [
    {
     "name": "stderr",
     "output_type": "stream",
     "text": [
      "/Users/riteshtripathi/opt/anaconda3/lib/python3.8/site-packages/statsmodels/tsa/arima_model.py:472: FutureWarning: \n",
      "statsmodels.tsa.arima_model.ARMA and statsmodels.tsa.arima_model.ARIMA have\n",
      "been deprecated in favor of statsmodels.tsa.arima.model.ARIMA (note the .\n",
      "between arima and model) and\n",
      "statsmodels.tsa.SARIMAX. These will be removed after the 0.12 release.\n",
      "\n",
      "statsmodels.tsa.arima.model.ARIMA makes use of the statespace framework and\n",
      "is both well tested and maintained.\n",
      "\n",
      "To silence this warning and continue using ARMA and ARIMA until they are\n",
      "removed, use:\n",
      "\n",
      "import warnings\n",
      "warnings.filterwarnings('ignore', 'statsmodels.tsa.arima_model.ARMA',\n",
      "                        FutureWarning)\n",
      "warnings.filterwarnings('ignore', 'statsmodels.tsa.arima_model.ARIMA',\n",
      "                        FutureWarning)\n",
      "\n",
      "  warnings.warn(ARIMA_DEPRECATION_WARN, FutureWarning)\n"
     ]
    },
    {
     "name": "stdout",
     "output_type": "stream",
     "text": [
      "297.16198419809785\n"
     ]
    }
   ],
   "source": [
    "#p,d,q  p = periods taken for autoregressive model\n",
    "    #if i want to predict June sales, i will take one period for May to predict\n",
    "    #if i am taking april and may, then i am taking two periods\n",
    "    \n",
    "#d -> Integrated order, difference, typically one or two is good\n",
    "# q periods in moving average model\n",
    "\n",
    "#in AR, paramters are found by itself, but in arima u need to specify\n",
    "#if incase you get any error in this block, go back to your train and test and change their values \n",
    "\n",
    "model_arima = ARIMA(train,order=(9, 2, 0))\n",
    "model_arima_fit = model_arima.fit()\n",
    "print(model_arima_fit.aic)\n",
    "\n",
    "#we keep changing the pdq values to get the best value for aic\n",
    "#but best way is to use the for loop as shown below\n",
    "#as per for loop,the best combination i have got is 4,1,1\n",
    "#but i have used 9,1,0 as the graph looks better"
   ]
  },
  {
   "cell_type": "code",
   "execution_count": 39,
   "metadata": {},
   "outputs": [
    {
     "data": {
      "text/plain": [
       "array([396.0451228 , 355.94736549, 413.095568  , 374.50910123,\n",
       "       446.94669323, 378.62487311, 406.37551675, 411.38904987,\n",
       "       475.90201789, 415.39179152])"
      ]
     },
     "execution_count": 39,
     "metadata": {},
     "output_type": "execute_result"
    }
   ],
   "source": [
    "#in AR, we use predict function\n",
    "#in arima we use forecast model\n",
    "predictions= model_arima_fit.forecast(steps=10)[0]\n",
    "predictions"
   ]
  },
  {
   "cell_type": "code",
   "execution_count": 40,
   "metadata": {},
   "outputs": [
    {
     "data": {
      "text/plain": [
       "[<matplotlib.lines.Line2D at 0x7ffabeeb25b0>]"
      ]
     },
     "execution_count": 40,
     "metadata": {},
     "output_type": "execute_result"
    },
    {
     "data": {
      "image/png": "[encoded data removed]",
      "text/plain": [
       "<Figure size 432x288 with 1 Axes>"
      ]
     },
     "metadata": {
      "needs_background": "light"
     },
     "output_type": "display_data"
    }
   ],
   "source": [
    "plt.plot(test)\n",
    "plt.plot(predictions,color='red')"
   ]
  },
  {
   "cell_type": "code",
   "execution_count": 82,
   "metadata": {},
   "outputs": [
    {
     "data": {
      "text/plain": [
       "[(0, 0, 0),\n",
       " (0, 0, 1),\n",
       " (0, 0, 2),\n",
       " (0, 0, 3),\n",
       " (0, 0, 4),\n",
       " (0, 1, 0),\n",
       " (0, 1, 1),\n",
       " (0, 1, 2),\n",
       " (0, 1, 3),\n",
       " (0, 1, 4),\n",
       " (0, 2, 0),\n",
       " (0, 2, 1),\n",
       " (0, 2, 2),\n",
       " (0, 2, 3),\n",
       " (0, 2, 4),\n",
       " (0, 3, 0),\n",
       " (0, 3, 1),\n",
       " (0, 3, 2),\n",
       " (0, 3, 3),\n",
       " (0, 3, 4),\n",
       " (0, 4, 0),\n",
       " (0, 4, 1),\n",
       " (0, 4, 2),\n",
       " (0, 4, 3),\n",
       " (0, 4, 4),\n",
       " (1, 0, 0),\n",
       " (1, 0, 1),\n",
       " (1, 0, 2),\n",
       " (1, 0, 3),\n",
       " (1, 0, 4),\n",
       " (1, 1, 0),\n",
       " (1, 1, 1),\n",
       " (1, 1, 2),\n",
       " (1, 1, 3),\n",
       " (1, 1, 4),\n",
       " (1, 2, 0),\n",
       " (1, 2, 1),\n",
       " (1, 2, 2),\n",
       " (1, 2, 3),\n",
       " (1, 2, 4),\n",
       " (1, 3, 0),\n",
       " (1, 3, 1),\n",
       " (1, 3, 2),\n",
       " (1, 3, 3),\n",
       " (1, 3, 4),\n",
       " (1, 4, 0),\n",
       " (1, 4, 1),\n",
       " (1, 4, 2),\n",
       " (1, 4, 3),\n",
       " (1, 4, 4),\n",
       " (2, 0, 0),\n",
       " (2, 0, 1),\n",
       " (2, 0, 2),\n",
       " (2, 0, 3),\n",
       " (2, 0, 4),\n",
       " (2, 1, 0),\n",
       " (2, 1, 1),\n",
       " (2, 1, 2),\n",
       " (2, 1, 3),\n",
       " (2, 1, 4),\n",
       " (2, 2, 0),\n",
       " (2, 2, 1),\n",
       " (2, 2, 2),\n",
       " (2, 2, 3),\n",
       " (2, 2, 4),\n",
       " (2, 3, 0),\n",
       " (2, 3, 1),\n",
       " (2, 3, 2),\n",
       " (2, 3, 3),\n",
       " (2, 3, 4),\n",
       " (2, 4, 0),\n",
       " (2, 4, 1),\n",
       " (2, 4, 2),\n",
       " (2, 4, 3),\n",
       " (2, 4, 4),\n",
       " (3, 0, 0),\n",
       " (3, 0, 1),\n",
       " (3, 0, 2),\n",
       " (3, 0, 3),\n",
       " (3, 0, 4),\n",
       " (3, 1, 0),\n",
       " (3, 1, 1),\n",
       " (3, 1, 2),\n",
       " (3, 1, 3),\n",
       " (3, 1, 4),\n",
       " (3, 2, 0),\n",
       " (3, 2, 1),\n",
       " (3, 2, 2),\n",
       " (3, 2, 3),\n",
       " (3, 2, 4),\n",
       " (3, 3, 0),\n",
       " (3, 3, 1),\n",
       " (3, 3, 2),\n",
       " (3, 3, 3),\n",
       " (3, 3, 4),\n",
       " (3, 4, 0),\n",
       " (3, 4, 1),\n",
       " (3, 4, 2),\n",
       " (3, 4, 3),\n",
       " (3, 4, 4),\n",
       " (4, 0, 0),\n",
       " (4, 0, 1),\n",
       " (4, 0, 2),\n",
       " (4, 0, 3),\n",
       " (4, 0, 4),\n",
       " (4, 1, 0),\n",
       " (4, 1, 1),\n",
       " (4, 1, 2),\n",
       " (4, 1, 3),\n",
       " (4, 1, 4),\n",
       " (4, 2, 0),\n",
       " (4, 2, 1),\n",
       " (4, 2, 2),\n",
       " (4, 2, 3),\n",
       " (4, 2, 4),\n",
       " (4, 3, 0),\n",
       " (4, 3, 1),\n",
       " (4, 3, 2),\n",
       " (4, 3, 3),\n",
       " (4, 3, 4),\n",
       " (4, 4, 0),\n",
       " (4, 4, 1),\n",
       " (4, 4, 2),\n",
       " (4, 4, 3),\n",
       " (4, 4, 4)]"
      ]
     },
     "execution_count": 82,
     "metadata": {},
     "output_type": "execute_result"
    }
   ],
   "source": [
    "#how to get best value for pdq, use for loop\n",
    "import itertools\n",
    "p=d=q=range(0,5)\n",
    "pdq = list(itertools.product(p,d,q))\n",
    "pdq"
   ]
  },
  {
   "cell_type": "code",
   "execution_count": 86,
   "metadata": {},
   "outputs": [
    {
     "name": "stdout",
     "output_type": "stream",
     "text": [
      "(0, 0, 0) 319.452858523\n",
      "(0, 0, 1) 318.72448093855843\n",
      "(0, 0, 2) 315.25060028819166\n",
      "(0, 0, 3) nan\n",
      "(0, 0, 4) 310.1669328586838\n",
      "(0, 1, 0) 311.829398349\n",
      "(0, 1, 1) 296.0841523580429\n",
      "(0, 1, 2) 296.3229226907717\n",
      "(0, 2, 0) 329.183495825\n",
      "(0, 2, 1) 306.1019479844314\n",
      "(1, 0, 0) 316.1668717523843\n",
      "(1, 0, 1) 313.04871744128553\n",
      "(1, 0, 2) 310.9790642227309\n",
      "(1, 0, 4) 309.6779931143489\n",
      "(1, 1, 0) 298.8325442271006\n",
      "(1, 1, 1) 297.125651125858\n",
      "(1, 1, 2) 299.47166670629974\n",
      "(1, 1, 3) 301.28511809508103\n",
      "(1, 1, 4) 299.9787323970439\n",
      "(1, 2, 0) 306.53077675712257\n",
      "(1, 2, 3) 290.3253394337328\n",
      "(2, 0, 0) 310.996957361246\n",
      "(2, 0, 4) nan\n",
      "(2, 1, 0) 300.2089561240259\n",
      "(2, 1, 1) 297.9999930167356\n",
      "(2, 1, 2) 298.550542813022\n",
      "(2, 1, 3) 302.8720832242939\n",
      "(2, 2, 0) 306.2975856432374\n",
      "(2, 2, 3) nan\n",
      "(3, 0, 0) 312.9838587419075\n",
      "(3, 0, 4) nan\n",
      "(3, 1, 0) 294.8543584218629\n",
      "(3, 1, 1) 295.9979353418878\n",
      "(3, 1, 2) 292.6686238694057\n",
      "(3, 1, 3) 294.65889075168667\n",
      "(3, 2, 0) 299.40758681562386\n",
      "(3, 2, 4) nan\n",
      "(4, 0, 0) 311.0706562026968\n",
      "(4, 0, 1) 321.74670275812883\n",
      "(4, 0, 2) nan\n",
      "(4, 0, 3) nan\n",
      "(4, 0, 4) nan\n",
      "(4, 1, 0) 295.93436313514405\n",
      "(4, 1, 1) 297.9098817060451\n",
      "(4, 1, 2) 294.66336105682245\n",
      "(4, 1, 3) 296.6455247166666\n",
      "(4, 2, 0) 296.5230072443205\n",
      "(4, 2, 1) 291.39913447173626\n",
      "(4, 2, 4) 292.5300290177515\n"
     ]
    }
   ],
   "source": [
    "import warnings\n",
    "warnings.filterwarnings('ignore')\n",
    "for param in pdq:\n",
    "    try:\n",
    "        model_arima = ARIMA(train,order=param)\n",
    "        model_arima_fit = model_arima.fit()\n",
    "        print(param,model_arima_fit.aic)\n",
    "    except:\n",
    "        continue\n",
    "    \n",
    "#this gives the best aic value\n"
   ]
  },
  {
   "cell_type": "code",
   "execution_count": 41,
   "metadata": {},
   "outputs": [
    {
     "data": {
      "text/plain": [
       "2959.3773086776796"
      ]
     },
     "execution_count": 41,
     "metadata": {},
     "output_type": "execute_result"
    }
   ],
   "source": [
    "#final step\n",
    "mean_squared_error(test,predictions)\n",
    "#the minimum error has to be the minimum"
   ]
  },
  {
   "cell_type": "code",
   "execution_count": null,
   "metadata": {},
   "outputs": [],
   "source": []
  }
 ],
 "metadata": {
  "kernelspec": {
   "display_name": "Python 3",
   "language": "python",
   "name": "python3"
  },
  "language_info": {
   "codemirror_mode": {
    "name": "ipython",
    "version": 3
   },
   "file_extension": ".py",
   "mimetype": "text/x-python",
   "name": "python",
   "nbconvert_exporter": "python",
   "pygments_lexer": "ipython3",
   "version": "3.8.5"
  }
 },
 "nbformat": 4,
 "nbformat_minor": 2
}
